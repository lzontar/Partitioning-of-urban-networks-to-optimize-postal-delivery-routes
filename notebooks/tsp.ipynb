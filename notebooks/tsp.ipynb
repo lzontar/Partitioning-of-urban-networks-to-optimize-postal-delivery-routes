{
 "cells": [
  {
   "cell_type": "code",
   "execution_count": 1,
   "metadata": {},
   "outputs": [],
   "source": [
    "import random\n",
    "import operator\n",
    "import numpy as np\n",
    "import pandas as pd\n",
    "import matplotlib.pylab as plt\n",
    "import networkx as nx"
   ]
  },
  {
   "cell_type": "code",
   "execution_count": 2,
   "metadata": {},
   "outputs": [],
   "source": [
    "class Address:\n",
    "    def __init__(self, id_):\n",
    "        self.id_ = id_\n",
    "    \n",
    "    def distance(self, address):\n",
    "        global distanceMatrix\n",
    "        return distanceMatrix[self.id_][address.id_]\n",
    "\n",
    "    def __repr__(self):\n",
    "        return str(self.id_)"
   ]
  },
  {
   "cell_type": "code",
   "execution_count": 3,
   "metadata": {},
   "outputs": [],
   "source": [
    "class Fitness:\n",
    "    def __init__(self, route):\n",
    "        self.route = route\n",
    "        self.distance = 0.0\n",
    "        self.fitness = 0.0\n",
    "    \n",
    "    def routeDistance(self):\n",
    "        if(self.distance == 0):\n",
    "            pathDistance = 0\n",
    "            for i in range(0, len(self.route)):\n",
    "                fromAddress = self.route[i]\n",
    "                toAddress = None\n",
    "                if(i + 1 < len(self.route)):\n",
    "                    toAddress = self.route[i + 1]\n",
    "                else: \n",
    "                    toAddress = self.route[0]\n",
    "                pathDistance += fromAddress.distance(toAddress)\n",
    "            self.distance = pathDistance\n",
    "        return self.distance\n",
    "\n",
    "    def routeFitness(self):\n",
    "        if(self.fitness == 0):\n",
    "            self.fitness = 1 / float(self.routeDistance())\n",
    "        \n",
    "        return self.fitness"
   ]
  },
  {
   "cell_type": "code",
   "execution_count": 5,
   "metadata": {},
   "outputs": [],
   "source": [
    "def createRoute(addressList):\n",
    "    route = random.sample(addressList, len(addressList))\n",
    "    return route\n",
    "\n",
    "def initialPopulation(populationSize, addressList):\n",
    "    population = []\n",
    "    for i in range(0, populationSize):\n",
    "        population.append(createRoute(addressList))\n",
    "    return population\n",
    "\n",
    "def rankRoutes(population):\n",
    "    fitnessResults = {}\n",
    "    for i in range(0, len(population)):\n",
    "        fitnessResults[i] = Fitness(population[i]).routeFitness()\n",
    "    return sorted(fitnessResults.items(), key=operator.itemgetter(1), reverse=True)\n",
    "\n",
    "def selection(populationRanked, eliteSize):\n",
    "    selectionResults = []\n",
    "    df = pd.DataFrame(np.array(populationRanked), columns=[\"Index\", \"Fitness\"])\n",
    "    df[\"cumulative_sum\"] = df.Fitness.cumsum()\n",
    "    df[\"cumulative_perc\"] = 100 * df.cumulative_sum / df.Fitness.sum()\n",
    "\n",
    "    for i in range(0, eliteSize):\n",
    "        selectionResults.append(populationRanked[i][0])\n",
    "    for i in range(0, len(populationRanked) - eliteSize):\n",
    "        pick = 100 * random.random()\n",
    "        for i in range(0, len(populationRanked)):\n",
    "            if(pick <= df.iat[i, 3]):\n",
    "                selectionResults.append(populationRanked[i][0])\n",
    "                break\n",
    "    return selectionResults\n",
    "\n",
    "def matingPool(population, selectionResults):\n",
    "    matingpool = []\n",
    "    for i in range(0, len(selectionResults)):\n",
    "        index = selectionResults[i]\n",
    "        matingpool.append(population[index])\n",
    "    return matingpool\n",
    "\n",
    "def breed(parent1, parent2):\n",
    "    child = []\n",
    "    childP1 = []\n",
    "    childP2 = []\n",
    "\n",
    "    geneA = int(random.random() * len(parent1))\n",
    "    geneB = int(random.random() * len(parent2))\n",
    "\n",
    "    startGene = min(geneA, geneB)\n",
    "    endGene = max(geneA, geneB)\n",
    "\n",
    "    for i in range(startGene, endGene):\n",
    "        childP1.append(parent1[i])\n",
    "\n",
    "    childP2 = [item for item in parent2 if item not in childP1]\n",
    "\n",
    "    child = childP1 + childP2\n",
    "    return child\n",
    "\n",
    "def breedPopulation(matingpool, eliteSize):\n",
    "    children = []\n",
    "    length = len(matingpool) - eliteSize\n",
    "    pool = random.sample(matingpool, len(matingpool))\n",
    "\n",
    "    for i in range(0, eliteSize):\n",
    "        children.append(matingpool[i])\n",
    "\n",
    "    for i in range(0, length):\n",
    "        child = breed(pool[i], pool[len(matingpool) - i - 1])\n",
    "        children.append(child)\n",
    "    return children\n",
    "\n",
    "def mutate(individual, mutationRate):\n",
    "    for swapped in range(len(individual)):\n",
    "        if(random.random() < mutationRate):\n",
    "            swapWith = int(random.random() * len(individual))\n",
    "\n",
    "            address1 = individual[swapped]\n",
    "            address2 = individual[swapWith]\n",
    "\n",
    "            individual[swapped] = address2\n",
    "            individual[swapWith] = address1\n",
    "\n",
    "    return individual\n",
    "\n",
    "def mutatePopulation(population, mutationRate):\n",
    "    mutatedPopulation = []\n",
    "\n",
    "    for individual in range(0, len(population)):\n",
    "        mutatedIndividual = mutate(population[individual], mutationRate)\n",
    "        mutatedPopulation.append(mutatedIndividual)\n",
    "    return mutatedPopulation\n",
    "\n",
    "def nextGeneration(currentGen, eliteSize, mutationRate):\n",
    "    popRanked = rankRoutes(currentGen)\n",
    "    selectionResults = selection(popRanked, eliteSize)\n",
    "    matingpool = matingPool(currentGen, selectionResults)\n",
    "    children = breedPopulation(matingpool, eliteSize)\n",
    "    nextGeneration = mutatePopulation(children, mutationRate)\n",
    "    return nextGeneration\n",
    "\n",
    "def geneticAlgorithm(population, popSize, eliteSize, mutationRate, generations):\n",
    "    progress = []\n",
    "    pop = initialPopulation(popSize, population)\n",
    "    progress.append(1 / rankRoutes(pop)[0][1])\n",
    "    print(\"Initial distance: \" + str(1 / rankRoutes(pop)[0][1]))\n",
    "\n",
    "    for i in range(0, generations):\n",
    "        pop = nextGeneration(pop, eliteSize, mutationRate)\n",
    "        progress.append(1 / rankRoutes(pop)[0][1])\n",
    "\n",
    "    print(\"Final distance: \" + str(1 / rankRoutes(pop)[0][1]))\n",
    "    bestRouteIndex = rankRoutes(pop)[0][0]\n",
    "    bestRoute = pop[bestRouteIndex]\n",
    "    print(bestRoute)\n",
    "    \n",
    "    return bestRoute, 1 / rankRoutes(pop)[0][1]\n",
    "#     plt.plot(progress)\n",
    "#     plt.ylabel('Distance')\n",
    "#     plt.xlabel('Generation')\n",
    "#     plt.show()"
   ]
  },
  {
   "cell_type": "code",
   "execution_count": null,
   "metadata": {
    "tags": []
   },
   "outputs": [],
   "source": [
    "# distanceMatrix = [[0,       2,      np.inf, np.inf, np.inf, np.inf, np.inf, np.inf, np.inf],\n",
    "#                   [2,       0,      3,      np.inf, np.inf, np.inf, np.inf, np.inf, np.inf],\n",
    "#                   [np.inf,  3,      0,      3     , np.inf, np.inf, 1     ,      2,      1],\n",
    "#                   [np.inf,  np.inf, 3,      0     , 2     , 2     , np.inf, np.inf, np.inf],\n",
    "#                   [np.inf,  np.inf, np.inf, 2     , 0     , 2     , np.inf, np.inf, np.inf],\n",
    "#                   [np.inf,  np.inf, np.inf, 2     , 2     , 0     , np.inf, np.inf, np.inf],\n",
    "#                   [np.inf,  np.inf, 1     , np.inf, np.inf, np.inf, 0,      np.inf, np.inf],\n",
    "#                   [np.inf,  np.inf, 2     , np.inf, np.inf, np.inf, np.inf, 0,      np.inf],\n",
    "#                   [np.inf,  np.inf, 1     , np.inf, np.inf, np.inf, np.inf, np.inf, 0     ]]\n",
    "                  \n",
    "# crossroadList = []\n",
    "\n",
    "\n",
    "# geneticAlgorithm(population=crossroadList, popSize=100, eliteSize=20, mutationRate=0.01, generations=200)"
   ]
  },
  {
   "cell_type": "code",
   "execution_count": 44,
   "metadata": {},
   "outputs": [],
   "source": [
    "# distanceMatrix = np.full((403, 403), np.inf)\n",
    "\n",
    "crossroadList = []\n",
    "addressList = []\n",
    "with open('../data/graphs/temp/pungert-distances-06-19-2021-14-02-38.net', 'r', encoding=\"utf-8\") as f:\n",
    "    for line in f.readlines():\n",
    "        if(line.strip().endswith(\"crossroad\")):\n",
    "            vals = line.strip().split(\" \")\n",
    "            crossroadList.append(Address(int(vals[0]) - 1))\n",
    "        elif(line.strip().endswith(\"address\")):\n",
    "            vals = line.strip().split(\" \")\n",
    "            addressList.append(Address(int(vals[0]) - 1))"
   ]
  },
  {
   "cell_type": "code",
   "execution_count": 34,
   "metadata": {},
   "outputs": [],
   "source": [
    "# graph = nx.read_pajek(f'../data/graphs/temp/tolmin-distances-06-19-2021-14-08-18.net')\n",
    "graph = nx.read_pajek(f'../data/graphs/temp/pungert-distances-06-19-2021-14-02-38.net')\n",
    "\n",
    "distances = dict(nx.all_pairs_dijkstra_path_length(graph, weight=lambda u, v, d: int(d[0]['distance'])))\n",
    "\n",
    "crossroadList = list(filter(lambda x: x[1] == 'crossroad', (map(lambda x: (x[0], graph.nodes[x[1]]['node_type']), enumerate(graph.nodes)))))"
   ]
  },
  {
   "cell_type": "code",
   "execution_count": 28,
   "metadata": {},
   "outputs": [],
   "source": [
    "distanceMatrix = np.full((len(graph.nodes), len(graph.nodes)), 0)\n",
    "for ix_1, node_1 in enumerate(graph.nodes()):\n",
    "    for ix_2, node_2 in enumerate(graph.nodes()):\n",
    "        distanceMatrix[ix_1][ix_2] = distances[node_1][node_2]"
   ]
  },
  {
   "cell_type": "code",
   "execution_count": 43,
   "metadata": {},
   "outputs": [
    {
     "data": {
      "text/plain": [
       "__main__.Address"
      ]
     },
     "execution_count": 43,
     "metadata": {},
     "output_type": "execute_result"
    }
   ],
   "source": [
    "type(crossroadList[1])"
   ]
  },
  {
   "cell_type": "code",
   "execution_count": 46,
   "metadata": {
    "tags": [
     "outputPrepend"
    ]
   },
   "outputs": [
    {
     "name": "stdout",
     "output_type": "stream",
     "text": [
      "Initial distance: 2358.0\n",
      "Final distance: 2358.0\n",
      "[41, 38, 43, 40, 39, 42]\n"
     ]
    }
   ],
   "source": [
    "bestRoute, finalDistance = geneticAlgorithm(population=crossroadList, popSize=100, eliteSize=20, mutationRate=0.01, generations=200)"
   ]
  },
  {
   "cell_type": "code",
   "execution_count": null,
   "metadata": {
    "collapsed": false,
    "jupyter": {
     "outputs_hidden": false
    },
    "pycharm": {
     "name": "#%%\n"
    }
   },
   "outputs": [],
   "source": []
  },
  {
   "cell_type": "code",
   "execution_count": null,
   "metadata": {},
   "outputs": [],
   "source": []
  }
 ],
 "metadata": {
  "kernelspec": {
   "display_name": "Projekt",
   "language": "python",
   "name": "projekt"
  },
  "language_info": {
   "codemirror_mode": {
    "name": "ipython",
    "version": 3
   },
   "file_extension": ".py",
   "mimetype": "text/x-python",
   "name": "python",
   "nbconvert_exporter": "python",
   "pygments_lexer": "ipython3",
   "version": "3.8.10"
  }
 },
 "nbformat": 4,
 "nbformat_minor": 4
}
